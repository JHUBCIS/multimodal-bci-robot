{
 "cells": [
  {
   "cell_type": "code",
   "execution_count": 1,
   "metadata": {},
   "outputs": [],
   "source": [
    "import pandas as pd\n",
    "import numpy as np\n",
    "import joblib"
   ]
  },
  {
   "cell_type": "markdown",
   "metadata": {},
   "source": [
    "## Read Data"
   ]
  },
  {
   "cell_type": "code",
   "execution_count": 2,
   "metadata": {},
   "outputs": [],
   "source": [
    "data = pd.read_csv(\"../data/1_01_EMG/training_EMG_data_neck_cheek_1.csv\")"
   ]
  },
  {
   "cell_type": "code",
   "execution_count": 3,
   "metadata": {},
   "outputs": [],
   "source": [
    "emg_data = data[['bandpass EMG envelope 0', 'bandpass EMG envelope 1']]\n",
    "emg_data = emg_data.to_numpy()\n",
    "\n",
    "button_data = data[['button 0', 'button 1']]\n",
    "button_data = button_data.to_numpy()"
   ]
  },
  {
   "cell_type": "code",
   "execution_count": 4,
   "metadata": {},
   "outputs": [],
   "source": [
    "def create_overlapping_sliding_windows(data, window_size, overlap):\n",
    "    windows = []\n",
    "    for i in range(0, len(data) - window_size + 1, overlap):\n",
    "        windows.append(data[i:i+window_size, :])\n",
    "    return np.array(windows)"
   ]
  },
  {
   "cell_type": "code",
   "execution_count": 5,
   "metadata": {},
   "outputs": [],
   "source": [
    "windowed_emg_data = create_overlapping_sliding_windows(emg_data, 100, 40)\n",
    "windowed_button_labels = create_overlapping_sliding_windows(button_data, 100, 40)"
   ]
  },
  {
   "cell_type": "code",
   "execution_count": 6,
   "metadata": {},
   "outputs": [],
   "source": [
    "X = np.sqrt(np.mean(np.square(windowed_emg_data), axis=1))\n",
    "y = np.max(windowed_button_labels, axis=1)"
   ]
  },
  {
   "cell_type": "code",
   "execution_count": 7,
   "metadata": {},
   "outputs": [],
   "source": [
    "RMS_EMG_0 = X[:,0].reshape(-1, 1)\n",
    "button_0 = y[:, 0]\n",
    "\n",
    "RMS_EMG_1 = X[:,1].reshape(-1, 1)\n",
    "button_1 = y[:, 1]"
   ]
  },
  {
   "cell_type": "markdown",
   "metadata": {},
   "source": [
    "## Load Model & Make Predictions"
   ]
  },
  {
   "cell_type": "code",
   "execution_count": 10,
   "metadata": {},
   "outputs": [],
   "source": [
    "emg_0_model = joblib.load(\"../saved_models/emg_0_model.pkl\")\n",
    "emg_1_model = joblib.load(\"../saved_models/emg_1_model.pkl\")"
   ]
  },
  {
   "cell_type": "code",
   "execution_count": 11,
   "metadata": {},
   "outputs": [],
   "source": [
    "from sklearn.model_selection import cross_validate\n",
    "# from sklearn.linear_model import LogisticRegression\n",
    "\n",
    "cv_results_0 = cross_validate(emg_1_model, RMS_EMG_0, button_0, cv=5, scoring='accuracy', return_estimator=True)\n",
    "cv_results_1 = cross_validate(emg_0_model, RMS_EMG_1, button_1, cv=5, scoring='accuracy', return_estimator=True)"
   ]
  },
  {
   "cell_type": "code",
   "execution_count": 12,
   "metadata": {},
   "outputs": [
    {
     "data": {
      "text/plain": [
       "{'fit_time': array([0.00437784, 0.00405884, 0.00295448, 0.00235271, 0.00344443]),\n",
       " 'score_time': array([0.00150967, 0.0012207 , 0.00094414, 0.00082135, 0.00125742]),\n",
       " 'estimator': [LogisticRegression(),\n",
       "  LogisticRegression(),\n",
       "  LogisticRegression(),\n",
       "  LogisticRegression(),\n",
       "  LogisticRegression()],\n",
       " 'test_score': array([0.87209302, 0.86046512, 0.86046512, 0.86046512, 0.86046512])}"
      ]
     },
     "execution_count": 12,
     "metadata": {},
     "output_type": "execute_result"
    }
   ],
   "source": [
    "cv_results_0"
   ]
  },
  {
   "cell_type": "code",
   "execution_count": 13,
   "metadata": {},
   "outputs": [
    {
     "data": {
      "text/plain": [
       "{'fit_time': array([0.00437784, 0.00405884, 0.00295448, 0.00235271, 0.00344443]),\n",
       " 'score_time': array([0.00150967, 0.0012207 , 0.00094414, 0.00082135, 0.00125742]),\n",
       " 'estimator': [LogisticRegression(),\n",
       "  LogisticRegression(),\n",
       "  LogisticRegression(),\n",
       "  LogisticRegression(),\n",
       "  LogisticRegression()],\n",
       " 'test_score': array([0.87209302, 0.86046512, 0.86046512, 0.86046512, 0.86046512])}"
      ]
     },
     "execution_count": 13,
     "metadata": {},
     "output_type": "execute_result"
    }
   ],
   "source": [
    "cv_results_0"
   ]
  },
  {
   "cell_type": "code",
   "execution_count": 14,
   "metadata": {},
   "outputs": [
    {
     "data": {
      "text/plain": [
       "{'fit_time': array([0.0028379 , 0.00244284, 0.00259948, 0.00226212, 0.00215149]),\n",
       " 'score_time': array([0.00076914, 0.00134897, 0.00080013, 0.00073242, 0.00071955]),\n",
       " 'estimator': [LogisticRegression(),\n",
       "  LogisticRegression(),\n",
       "  LogisticRegression(),\n",
       "  LogisticRegression(),\n",
       "  LogisticRegression()],\n",
       " 'test_score': array([0.86046512, 0.87209302, 0.89534884, 0.87209302, 0.87209302])}"
      ]
     },
     "execution_count": 14,
     "metadata": {},
     "output_type": "execute_result"
    }
   ],
   "source": [
    "cv_results_1"
   ]
  },
  {
   "cell_type": "code",
   "execution_count": 15,
   "metadata": {},
   "outputs": [
    {
     "data": {
      "text/plain": [
       "{'fit_time': array([0.0028379 , 0.00244284, 0.00259948, 0.00226212, 0.00215149]),\n",
       " 'score_time': array([0.00076914, 0.00134897, 0.00080013, 0.00073242, 0.00071955]),\n",
       " 'estimator': [LogisticRegression(),\n",
       "  LogisticRegression(),\n",
       "  LogisticRegression(),\n",
       "  LogisticRegression(),\n",
       "  LogisticRegression()],\n",
       " 'test_score': array([0.86046512, 0.87209302, 0.89534884, 0.87209302, 0.87209302])}"
      ]
     },
     "execution_count": 15,
     "metadata": {},
     "output_type": "execute_result"
    }
   ],
   "source": [
    "cv_results_1"
   ]
  }
 ],
 "metadata": {
  "kernelspec": {
   "display_name": "BCIS",
   "language": "python",
   "name": "python3"
  },
  "language_info": {
   "codemirror_mode": {
    "name": "ipython",
    "version": 3
   },
   "file_extension": ".py",
   "mimetype": "text/x-python",
   "name": "python",
   "nbconvert_exporter": "python",
   "pygments_lexer": "ipython3",
   "version": "3.11.4"
  }
 },
 "nbformat": 4,
 "nbformat_minor": 2
}
