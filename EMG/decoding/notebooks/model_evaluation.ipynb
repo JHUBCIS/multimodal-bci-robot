{
 "cells": [
  {
   "cell_type": "code",
   "execution_count": 1,
   "metadata": {},
   "outputs": [],
   "source": [
    "import pandas as pd\n",
    "import numpy as np\n",
    "import joblib"
   ]
  },
  {
   "cell_type": "markdown",
   "metadata": {},
   "source": [
    "## Read Data"
   ]
  },
  {
   "cell_type": "code",
   "execution_count": 13,
   "metadata": {},
   "outputs": [],
   "source": [
    "data = pd.read_csv(\"data/linda_neck_cheek_noisy-cleaned.csv\")"
   ]
  },
  {
   "cell_type": "code",
   "execution_count": 14,
   "metadata": {},
   "outputs": [],
   "source": [
    "emg_data = data[['bandpass EMG envelope 0', 'bandpass EMG envelope 1']]\n",
    "emg_data = emg_data.to_numpy()\n",
    "\n",
    "button_data = data[['button 0', 'button 1']]\n",
    "button_data = button_data.to_numpy()"
   ]
  },
  {
   "cell_type": "code",
   "execution_count": 15,
   "metadata": {},
   "outputs": [],
   "source": [
    "def create_overlapping_sliding_windows(data, window_size, overlap):\n",
    "    windows = []\n",
    "    for i in range(0, len(data) - window_size + 1, overlap):\n",
    "        windows.append(data[i:i+window_size, :])\n",
    "    return np.array(windows)"
   ]
  },
  {
   "cell_type": "code",
   "execution_count": 16,
   "metadata": {},
   "outputs": [],
   "source": [
    "windowed_emg_data = create_overlapping_sliding_windows(emg_data, 100, 40)\n",
    "windowed_button_labels = create_overlapping_sliding_windows(button_data, 100, 40)"
   ]
  },
  {
   "cell_type": "code",
   "execution_count": 17,
   "metadata": {},
   "outputs": [],
   "source": [
    "X = np.sqrt(np.mean(np.square(windowed_emg_data), axis=1))\n",
    "y = np.max(windowed_button_labels, axis=1)"
   ]
  },
  {
   "cell_type": "code",
   "execution_count": 18,
   "metadata": {},
   "outputs": [],
   "source": [
    "RMS_EMG_0 = X[:,0].reshape(-1, 1)\n",
    "button_0 = y[:, 0]\n",
    "\n",
    "RMS_EMG_1 = X[:,1].reshape(-1, 1)\n",
    "button_1 = y[:, 1]"
   ]
  },
  {
   "cell_type": "markdown",
   "metadata": {},
   "source": [
    "## Load Model & Make Predictions"
   ]
  },
  {
   "cell_type": "code",
   "execution_count": 19,
   "metadata": {},
   "outputs": [],
   "source": [
    "emg_0_model = joblib.load(\"saved_models/emg_0_model.pkl\")\n",
    "emg_1_model = joblib.load(\"saved_models/emg_1_model.pkl\")"
   ]
  },
  {
   "cell_type": "code",
   "execution_count": 23,
   "metadata": {},
   "outputs": [],
   "source": [
    "from sklearn.model_selection import cross_validate\n",
    "# from sklearn.linear_model import LogisticRegression\n",
    "\n",
    "cv_results_0 = cross_validate(emg_1_model, RMS_EMG_0, button_0, cv=5, scoring='accuracy', return_estimator=True)\n",
    "cv_results_1 = cross_validate(emg_0_model, RMS_EMG_1, button_1, cv=5, scoring='accuracy', return_estimator=True)"
   ]
  },
  {
   "cell_type": "code",
   "execution_count": 21,
   "metadata": {},
   "outputs": [
    {
     "data": {
      "text/plain": [
       "{'fit_time': array([0.00562072, 0.00219727, 0.00250387, 0.00253248, 0.0023489 ]),\n",
       " 'score_time': array([0.0006206 , 0.00058866, 0.00052071, 0.0006628 , 0.00058031]),\n",
       " 'estimator': [LogisticRegression(),\n",
       "  LogisticRegression(),\n",
       "  LogisticRegression(),\n",
       "  LogisticRegression(),\n",
       "  LogisticRegression()],\n",
       " 'test_score': array([0.89655172, 0.90697674, 0.90697674, 0.6744186 , 0.89534884])}"
      ]
     },
     "execution_count": 21,
     "metadata": {},
     "output_type": "execute_result"
    }
   ],
   "source": [
    "cv_results_0"
   ]
  },
  {
   "cell_type": "code",
   "execution_count": 24,
   "metadata": {},
   "outputs": [
    {
     "data": {
      "text/plain": [
       "{'fit_time': array([0.00339985, 0.00352859, 0.00339437, 0.00327134, 0.00370884]),\n",
       " 'score_time': array([0.00098801, 0.00071263, 0.00077057, 0.00082397, 0.00082088]),\n",
       " 'estimator': [LogisticRegression(),\n",
       "  LogisticRegression(),\n",
       "  LogisticRegression(),\n",
       "  LogisticRegression(),\n",
       "  LogisticRegression()],\n",
       " 'test_score': array([0.89655172, 0.90697674, 0.90697674, 0.6744186 , 0.89534884])}"
      ]
     },
     "execution_count": 24,
     "metadata": {},
     "output_type": "execute_result"
    }
   ],
   "source": [
    "cv_results_0"
   ]
  },
  {
   "cell_type": "code",
   "execution_count": 22,
   "metadata": {},
   "outputs": [
    {
     "data": {
      "text/plain": [
       "{'fit_time': array([0.00230718, 0.00220728, 0.00201249, 0.00195122, 0.00211644]),\n",
       " 'score_time': array([0.00076509, 0.0005095 , 0.00048733, 0.0004909 , 0.00047922]),\n",
       " 'estimator': [LogisticRegression(),\n",
       "  LogisticRegression(),\n",
       "  LogisticRegression(),\n",
       "  LogisticRegression(),\n",
       "  LogisticRegression()],\n",
       " 'test_score': array([0.94252874, 0.93023256, 0.89534884, 1.        , 0.91860465])}"
      ]
     },
     "execution_count": 22,
     "metadata": {},
     "output_type": "execute_result"
    }
   ],
   "source": [
    "cv_results_1"
   ]
  },
  {
   "cell_type": "code",
   "execution_count": 25,
   "metadata": {},
   "outputs": [
    {
     "data": {
      "text/plain": [
       "{'fit_time': array([0.00340605, 0.00328922, 0.00302148, 0.0027914 , 0.00345635]),\n",
       " 'score_time': array([0.00067401, 0.000772  , 0.00067115, 0.00073504, 0.00089526]),\n",
       " 'estimator': [LogisticRegression(),\n",
       "  LogisticRegression(),\n",
       "  LogisticRegression(),\n",
       "  LogisticRegression(),\n",
       "  LogisticRegression()],\n",
       " 'test_score': array([0.94252874, 0.93023256, 0.89534884, 1.        , 0.91860465])}"
      ]
     },
     "execution_count": 25,
     "metadata": {},
     "output_type": "execute_result"
    }
   ],
   "source": [
    "cv_results_1"
   ]
  }
 ],
 "metadata": {
  "kernelspec": {
   "display_name": "BCIS",
   "language": "python",
   "name": "python3"
  },
  "language_info": {
   "codemirror_mode": {
    "name": "ipython",
    "version": 3
   },
   "file_extension": ".py",
   "mimetype": "text/x-python",
   "name": "python",
   "nbconvert_exporter": "python",
   "pygments_lexer": "ipython3",
   "version": "3.11.4"
  }
 },
 "nbformat": 4,
 "nbformat_minor": 2
}
