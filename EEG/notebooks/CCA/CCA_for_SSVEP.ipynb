{
 "cells": [
  {
   "cell_type": "markdown",
   "metadata": {},
   "source": [
    "# Import Libraries & Data"
   ]
  },
  {
   "cell_type": "code",
   "execution_count": 1,
   "metadata": {},
   "outputs": [],
   "source": [
    "import numpy as np\n",
    "import pandas as pd\n",
    "from sklearn.cross_decomposition import CCA\n",
    "from scipy import signal\n",
    "import mne\n",
    "import matplotlib.pyplot as plt"
   ]
  },
  {
   "cell_type": "code",
   "execution_count": 2,
   "metadata": {},
   "outputs": [],
   "source": [
    "subject = 'Sub01'\n",
    "date = '7_24_EEG'\n",
    "\n",
    "df = pd.DataFrame()\n",
    "sfreq = 250\n",
    "\n",
    "for i in [1]:\n",
    "    # data_path = f'../../data/{date}/{subject}/Katie_7-23_EEG_no_OSCAR_{i}.csv'\n",
    "    data_path = f'../../data/{date}/{subject}/{subject}_EEG_cleaned_{i}.csv'\n",
    "    eeg = pd.read_csv(data_path)\n",
    "    df = pd.concat([df, eeg])"
   ]
  },
  {
   "cell_type": "code",
   "execution_count": 3,
   "metadata": {},
   "outputs": [],
   "source": [
    "channels = [f\"EEG_Ch{i}(mV)\" for i in range(1, 9)] # Select channels you want\n",
    "eeg_data = df[channels].to_numpy()\n",
    "labels = df['filled_stim'].to_numpy()"
   ]
  },
  {
   "cell_type": "code",
   "execution_count": 4,
   "metadata": {},
   "outputs": [
    {
     "data": {
      "text/plain": [
       "(array([40651.,     0.,     0.,     0.,     0., 25434.,     0.,     0.,\n",
       "            0., 24993.]),\n",
       " array([0. , 0.2, 0.4, 0.6, 0.8, 1. , 1.2, 1.4, 1.6, 1.8, 2. ]),\n",
       " <BarContainer object of 10 artists>)"
      ]
     },
     "execution_count": 4,
     "metadata": {},
     "output_type": "execute_result"
    },
    {
     "data": {
      "image/png": "[encoded data removed]",
      "text/plain": [
       "<Figure size 640x480 with 1 Axes>"
      ]
     },
     "metadata": {},
     "output_type": "display_data"
    }
   ],
   "source": [
    "plt.hist(labels)"
   ]
  },
  {
   "cell_type": "markdown",
   "metadata": {},
   "source": [
    "# Filter Data"
   ]
  },
  {
   "cell_type": "markdown",
   "metadata": {},
   "source": [
    "### MNE"
   ]
  },
  {
   "cell_type": "code",
   "execution_count": 5,
   "metadata": {},
   "outputs": [
    {
     "name": "stdout",
     "output_type": "stream",
     "text": [
      "Creating RawArray with float64 data, n_channels=8, n_times=91078\n",
      "    Range : 0 ... 91077 =      0.000 ...   364.308 secs\n",
      "Ready.\n",
      "Filtering raw data in 1 contiguous segment\n",
      "Setting up band-pass filter from 0.5 - 50 Hz\n",
      "\n",
      "FIR filter parameters\n",
      "---------------------\n",
      "Designing a one-pass, zero-phase, non-causal bandpass filter:\n",
      "- Windowed time-domain design (firwin) method\n",
      "- Hamming window with 0.0194 passband ripple and 53 dB stopband attenuation\n",
      "- Lower passband edge: 0.50\n",
      "- Lower transition bandwidth: 0.50 Hz (-6 dB cutoff frequency: 0.25 Hz)\n",
      "- Upper passband edge: 50.00 Hz\n",
      "- Upper transition bandwidth: 12.50 Hz (-6 dB cutoff frequency: 56.25 Hz)\n",
      "- Filter length: 1651 samples (6.604 s)\n",
      "\n",
      "Filtering raw data in 1 contiguous segment\n",
      "Setting up band-stop filter from 59 - 61 Hz\n",
      "\n",
      "FIR filter parameters\n",
      "---------------------\n",
      "Designing a one-pass, zero-phase, non-causal bandstop filter:\n",
      "- Windowed time-domain design (firwin) method\n",
      "- Hamming window with 0.0194 passband ripple and 53 dB stopband attenuation\n",
      "- Lower passband edge: 59.35\n",
      "- Lower transition bandwidth: 0.50 Hz (-6 dB cutoff frequency: 59.10 Hz)\n",
      "- Upper passband edge: 60.65 Hz\n",
      "- Upper transition bandwidth: 0.50 Hz (-6 dB cutoff frequency: 60.90 Hz)\n",
      "- Filter length: 1651 samples (6.604 s)\n",
      "\n"
     ]
    }
   ],
   "source": [
    "info = mne.create_info([f'EEG_{i}' for i in range(eeg_data.shape[1])], sfreq, ch_types='eeg')\n",
    "raw = mne.io.RawArray(eeg_data.T, info)\n",
    "\n",
    "# Apply bandpass filter\n",
    "raw_bandpass = raw.copy().filter(l_freq=0.5, h_freq=50)\n",
    "\n",
    "# Apply notch filter\n",
    "raw_filtered = raw_bandpass.copy().notch_filter(freqs=60)\n",
    "\n",
    "eeg_data = raw_filtered.get_data().T"
   ]
  },
  {
   "cell_type": "markdown",
   "metadata": {},
   "source": [
    "### Scipy"
   ]
  },
  {
   "cell_type": "code",
   "execution_count": null,
   "metadata": {},
   "outputs": [],
   "source": [
    "# Define filter parameters\n",
    "fs = 250\n",
    "lowcut = 0.5  # Lower frequency of the bandpass\n",
    "highcut = 50  # Upper frequency of the bandpass\n",
    "notch_freq = 60  # Frequency to be removed by notch filter\n",
    "Q = 30  # Quality factor for notch filter"
   ]
  },
  {
   "cell_type": "code",
   "execution_count": null,
   "metadata": {},
   "outputs": [],
   "source": [
    "# Create bandpass filter\n",
    "def butter_bandpass(lowcut, highcut, fs, order=5):\n",
    "    nyq = 0.5 * fs\n",
    "    low = lowcut / nyq\n",
    "    high = highcut / nyq\n",
    "    b, a = signal.butter(order, [low, high], btype='band')\n",
    "    return b, a"
   ]
  },
  {
   "cell_type": "code",
   "execution_count": null,
   "metadata": {},
   "outputs": [],
   "source": [
    "# Create notch filter\n",
    "def notch_filter(notch_freq, Q, fs):\n",
    "    b, a = signal.iirnotch(notch_freq, Q, fs)\n",
    "    return b, a"
   ]
  },
  {
   "cell_type": "code",
   "execution_count": null,
   "metadata": {},
   "outputs": [],
   "source": [
    "# Get filter coefficients\n",
    "b_bandpass, a_bandpass = butter_bandpass(lowcut, highcut, fs)\n",
    "b_notch, a_notch = notch_filter(notch_freq, Q, fs)"
   ]
  },
  {
   "cell_type": "code",
   "execution_count": null,
   "metadata": {},
   "outputs": [],
   "source": [
    "# Apply filters\n",
    "signal_bandpass = signal.filtfilt(b_bandpass, a_bandpass, eeg_data.T)\n",
    "eeg_data_filtered = signal.filtfilt(b_notch, a_notch, signal_bandpass)"
   ]
  },
  {
   "cell_type": "code",
   "execution_count": null,
   "metadata": {},
   "outputs": [],
   "source": [
    "eeg_data = eeg_data_filtered.T"
   ]
  },
  {
   "cell_type": "markdown",
   "metadata": {},
   "source": [
    "# Epoch Data & CCA Analysis"
   ]
  },
  {
   "cell_type": "code",
   "execution_count": 6,
   "metadata": {},
   "outputs": [],
   "source": [
    "class CCAAnalysis:\n",
    "    \"\"\"Canonical Correlation Analysis for SSVEP paradigm\"\"\"\n",
    "    def __init__(self, freqs, win_len, s_rate, n_harmonics=1):\n",
    "        \"\"\"\n",
    "        Args:\n",
    "            freqs (list): List of target frequencies\n",
    "            win_len (float): Window length\n",
    "            s_rate (int): Sampling rate of EEG signal\n",
    "            n_harmonics (int): Number of harmonics to be considered\n",
    "        \"\"\"\n",
    "        self.freqs = freqs\n",
    "        self.win_len = win_len\n",
    "        self.s_rate = s_rate\n",
    "        self.n_harmonics = n_harmonics\n",
    "        self.train_data = self._init_train_data()\n",
    "        self.cca = CCA(n_components=1)\n",
    "\n",
    "    def _init_train_data(self):\n",
    "        t_vec = np.linspace(0, self.win_len, int(self.s_rate * self.win_len))\n",
    "        targets = {}\n",
    "        for freq in self.freqs:\n",
    "            sig_sin, sig_cos = [], []\n",
    "            for harmonics in range(self.n_harmonics):\n",
    "                sig_sin.append(np.sin(2 * np.pi * harmonics * freq * t_vec))\n",
    "                sig_cos.append(np.cos(2 * np.pi * harmonics * freq * t_vec))\n",
    "            targets[freq] = np.array(sig_sin + sig_cos).T\n",
    "        return targets\n",
    "\n",
    "    def apply_cca(self, eeg):\n",
    "        \"\"\"Apply CCA analysis to EEG data and return scores for each target frequency\n",
    "\n",
    "        Args:\n",
    "            eeg (np.array): EEG array [n_samples, n_chan]\n",
    "\n",
    "        Returns:\n",
    "            list of scores for target frequencies\n",
    "        \"\"\"\n",
    "        scores = []\n",
    "        for key in self.train_data:\n",
    "            sig_c, t_c = self.cca.fit_transform(eeg, self.train_data[key])\n",
    "            scores.append(np.corrcoef(sig_c.T, t_c.T)[0, 1])\n",
    "        return scores"
   ]
  },
  {
   "cell_type": "code",
   "execution_count": 7,
   "metadata": {},
   "outputs": [],
   "source": [
    "def get_epoch_idxs(arr):\n",
    "    result = []\n",
    "    current_subarray = [[0, arr[0]]]\n",
    "    \n",
    "    for i in range(1, len(arr)):\n",
    "        if arr[i] == arr[i-1]:\n",
    "            current_subarray.append([i, arr[i]])\n",
    "        else:\n",
    "            result.append(np.array(current_subarray))\n",
    "            current_subarray = [[i, arr[i]]]\n",
    "    \n",
    "    result.append(np.array(current_subarray))\n",
    "    return result"
   ]
  },
  {
   "cell_type": "code",
   "execution_count": 8,
   "metadata": {},
   "outputs": [],
   "source": [
    "epoch_idxs = get_epoch_idxs(labels)\n",
    "epoched_data = [eeg_data[list(map(int, idxs[:,0])), :] for idxs in epoch_idxs]\n",
    "\n",
    "groundtruth = [np.mean(idxs[:, 1]) for idxs in epoch_idxs]"
   ]
  },
  {
   "cell_type": "code",
   "execution_count": 9,
   "metadata": {},
   "outputs": [],
   "source": [
    "X = [epoched_data[i] for i in np.where(np.array(groundtruth) != 0)[0]]\n",
    "y = [groundtruth[i] for i in np.where(np.array(groundtruth) != 0)[0]]\n",
    "y = [0 if i == 1 else 1 for i in y]"
   ]
  },
  {
   "cell_type": "code",
   "execution_count": 10,
   "metadata": {},
   "outputs": [],
   "source": [
    "# Removes any detected epochs who number of samples are less than the sampling rate\n",
    "\n",
    "y = [y[i] for i in range(len(y)) if len(X[i]) > 2*sfreq]\n",
    "X = [data for data in X if len(data) > 2*sfreq]"
   ]
  },
  {
   "cell_type": "code",
   "execution_count": 11,
   "metadata": {},
   "outputs": [],
   "source": [
    "t_min = -1\n",
    "t_max = 6.\n",
    "event_freq = [9.75, 14.25]\n",
    "fs = 250\n",
    "# t_win = [.25, .5, .75, 1, 1.25, 1.5, 2, 2.5, 3, 4, 6] # multiple time windows\n",
    "t_win = [3] # one time window\n",
    "\n",
    "predictions = {str(key): [] for key in t_win}\n",
    "accuracies = []\n",
    "\n",
    "X_new = []\n",
    "\n",
    "for tmax in t_win:\n",
    "    cca = CCAAnalysis(freqs=event_freq, win_len=tmax, s_rate=fs, n_harmonics=2)\n",
    "\n",
    "    epochs = []\n",
    "    idxs = []\n",
    "    groundtruth = []\n",
    "    \n",
    "    for trial_data in X:\n",
    "        if trial_data.shape[0] < int(fs*tmax):\n",
    "            trial_data = np.vstack((trial_data, np.zeros((int(fs*tmax) - trial_data.shape[0], trial_data.shape[1]))))\n",
    "        X_new.append(trial_data[:int(fs*tmax),:])\n",
    "        scores = cca.apply_cca(trial_data[:int(fs*tmax),:])\n",
    "        predictions[str(tmax)].append(np.argmax(scores))\n",
    "        \n",
    "    accuracies.append(np.mean(np.array(predictions[str(tmax)]) == y) * 100)"
   ]
  },
  {
   "cell_type": "code",
   "execution_count": 12,
   "metadata": {},
   "outputs": [
    {
     "name": "stdout",
     "output_type": "stream",
     "text": [
      "Accuracy\n",
      "----------------\n",
      "[95.0]\n"
     ]
    }
   ],
   "source": [
    "print(\"Accuracy\\n----------------\")\n",
    "print(accuracies)"
   ]
  },
  {
   "cell_type": "code",
   "execution_count": 13,
   "metadata": {},
   "outputs": [
    {
     "data": {
      "text/plain": [
       "<matplotlib.legend.Legend at 0x701310a8c160>"
      ]
     },
     "execution_count": 13,
     "metadata": {},
     "output_type": "execute_result"
    },
    {
     "data": {
      "image/png": "[encoded data removed]",
      "text/plain": [
       "<Figure size 640x480 with 1 Axes>"
      ]
     },
     "metadata": {},
     "output_type": "display_data"
    }
   ],
   "source": [
    "# Visualize predictions\n",
    "plt.scatter(np.arange(len(y)), y, label='Groundtruth')\n",
    "plt.scatter(np.arange(len(predictions[f'{t_win[0]}'])), predictions[f'{t_win[0]}'], label='Prediction')\n",
    "plt.xlabel('Trial')\n",
    "plt.ylabel('Prediction')\n",
    "plt.legend()"
   ]
  },
  {
   "cell_type": "code",
   "execution_count": 14,
   "metadata": {},
   "outputs": [],
   "source": [
    "# Change dimensions to make compatible with the TFR analysis\n",
    "X_new = np.array(X_new)\n",
    "X_new = np.transpose(X_new, (0, 2, 1))\n",
    "\n",
    "y = np.array(y)"
   ]
  },
  {
   "cell_type": "markdown",
   "metadata": {},
   "source": [
    "# Time Frequency Analysis"
   ]
  },
  {
   "cell_type": "code",
   "execution_count": 1,
   "metadata": {},
   "outputs": [],
   "source": [
    "import matplotlib as mpl\n",
    "\n",
    "mpl.rcParams['axes.titlesize'] = 30\n",
    "mpl.rcParams['axes.labelsize'] = 28\n",
    "mpl.rcParams['xtick.labelsize'] = 24\n",
    "mpl.rcParams['ytick.labelsize'] = 24\n",
    "mpl.rcParams['legend.fontsize'] = 20\n",
    "\n",
    "ch_labels = [\"Fz\", \"C3\", \"Cz\", \"C4\", \"Pz\", \"PO7\", \"Oz\", \"PO8\"]\n",
    "ch_labels = ch_labels[4:]"
   ]
  },
  {
   "cell_type": "code",
   "execution_count": 2,
   "metadata": {},
   "outputs": [
    {
     "data": {
      "text/plain": [
       "['ytick.alignment',\n",
       " 'ytick.color',\n",
       " 'ytick.direction',\n",
       " 'ytick.labelcolor',\n",
       " 'ytick.labelleft',\n",
       " 'ytick.labelright',\n",
       " 'ytick.labelsize',\n",
       " 'ytick.left',\n",
       " 'ytick.major.left',\n",
       " 'ytick.major.pad',\n",
       " 'ytick.major.right',\n",
       " 'ytick.major.size',\n",
       " 'ytick.major.width',\n",
       " 'ytick.minor.left',\n",
       " 'ytick.minor.ndivs',\n",
       " 'ytick.minor.pad',\n",
       " 'ytick.minor.right',\n",
       " 'ytick.minor.size',\n",
       " 'ytick.minor.visible',\n",
       " 'ytick.minor.width',\n",
       " 'ytick.right']"
      ]
     },
     "execution_count": 2,
     "metadata": {},
     "output_type": "execute_result"
    }
   ],
   "source": [
    "[key for key in mpl.rcParams.keys() if key.startswith('ytick')]"
   ]
  },
  {
   "cell_type": "code",
   "execution_count": 3,
   "metadata": {},
   "outputs": [],
   "source": [
    "def tfr_analysis(X, y, n_channels:int, fs:int, event_freq:list):\n",
    "    \"\"\"\n",
    "    Parameters\n",
    "    ----------\n",
    "        X : np.array\n",
    "            EEG data [n_trials, n_channels, n_samples]\n",
    "\n",
    "        y : np.array\n",
    "            Labels [n_trials]\n",
    "        \n",
    "        n_channels : int\n",
    "            Number of channels\n",
    "        \n",
    "        fs : int\n",
    "            Sampling rate of EEG data\n",
    "`\n",
    "        event_freq : list\n",
    "            List of frequencies SSVEP stimuli is flashing at\n",
    "    \"\"\"\n",
    "    freqs = np.arange(0.5, 20., .5)\n",
    "    n_cycles = freqs\n",
    "\n",
    "    times = np.linspace(0, 4, np.array(X).shape[2])\n",
    "\n",
    "    power_1 = mne.time_frequency.tfr_array_morlet(X[np.where(y == 0.)[0], :, :], sfreq=fs,\n",
    "                                                    freqs=freqs, n_cycles=n_cycles, zero_mean=True,\n",
    "                                                    output='avg_power')\n",
    "    power_2 = mne.time_frequency.tfr_array_morlet(X[np.where(y == 1.)[0], :, :], sfreq=fs,\n",
    "                                                    freqs=freqs, n_cycles=n_cycles, zero_mean=True,\n",
    "                                                    output='avg_power')\n",
    "\n",
    "    mne.baseline.rescale(power_1, times, (None, 0), mode='mean', copy=False)\n",
    "    mne.baseline.rescale(power_2, times, (None, 0), mode='mean', copy=False)\n",
    "\n",
    "    power = np.stack([power_1, power_2])\n",
    "    x, y = mne.viz.centers_to_edges(times, freqs)\n",
    "\n",
    "    fig, ax = plt.subplots(n_channels, 2, figsize=(10, 5*n_channels))\n",
    "\n",
    "\n",
    "    for j in range(2):\n",
    "        for i in range(n_channels):\n",
    "            ax[i, j].set_title(f'{event_freq[j]} Hz')\n",
    "            mesh = ax[i, j].pcolormesh(x, y, power[j, i], cmap='RdBu_r')\n",
    "            # ax[i, j].set_title('TFR - ' + chan_name[i] + ' - ' + class_names[j])\n",
    "            ax[i, j].set(ylim=freqs[[0, -1]])\n",
    "            \n",
    "            ax[i, j].set_xlabel('Time (s)')\n",
    "            if j == 0:\n",
    "                ax[i, j].set_ylabel(f'{ch_labels[i]} | Freq (Hz)')\n",
    "\n",
    "            # Adding xticks\n",
    "            xtick_positions = np.linspace(0, 4, num=4)\n",
    "            xtick_labels = np.round(np.linspace(0, t_win[0], num=4), 2)\n",
    "            ax[i, j].set_xticks(xtick_positions)\n",
    "            ax[i, j].set_xticklabels(xtick_labels)\n",
    "\n",
    "\n",
    "    plt.tight_layout()\n",
    "    fig.subplots_adjust(right=0.8)\n",
    "    fig.subplots_adjust(top = .95)\n",
    "    cbar_ax = fig.add_axes([0.85, 0.15, 0.05, 0.7])\n",
    "    fig.colorbar(mesh, cax=cbar_ax)\n",
    "\n",
    "    # fig.suptitle('Time-Frequency Representation', fontsize=18)\n",
    "\n",
    "    # plt.savefig(f'figures/{subject}_{date}_TFR_{t_win[0]}_sec.svg')\n",
    "\n",
    "    plt.show()"
   ]
  },
  {
   "cell_type": "code",
   "execution_count": 87,
   "metadata": {},
   "outputs": [
    {
     "data": {
      "text/plain": [
       "(20, 8, 750)"
      ]
     },
     "execution_count": 87,
     "metadata": {},
     "output_type": "execute_result"
    }
   ],
   "source": [
    "X_new.shape"
   ]
  },
  {
   "cell_type": "code",
   "execution_count": 88,
   "metadata": {},
   "outputs": [
    {
     "name": "stdout",
     "output_type": "stream",
     "text": [
      "Applying baseline correction (mode: mean)\n",
      "Applying baseline correction (mode: mean)\n"
     ]
    }
   ],
   "source": [
    "fs = 250\n",
    "n_channels = eeg_data.shape[1]\n",
    "event_freq = [9.75, 14.25]\n",
    "\n",
    "tfr_analysis(X_new[:, :4, :], y, n_channels//2, fs, event_freq)"
   ]
  },
  {
   "cell_type": "markdown",
   "metadata": {},
   "source": [
    "# Test on Dataset"
   ]
  },
  {
   "cell_type": "code",
   "execution_count": 18,
   "metadata": {},
   "outputs": [],
   "source": [
    "from sklearn.pipeline import make_pipeline\n",
    "\n",
    "import moabb\n",
    "from moabb.datasets import MAMEM3\n",
    "from moabb.evaluations import WithinSessionEvaluation\n",
    "from moabb.paradigms import SSVEP\n",
    "from moabb.pipelines import SSVEP_CCA\n",
    "\n",
    "\n",
    "# warnings.simplefilter(action=\"ignore\", category=FutureWarning)\n",
    "# warnings.simplefilter(action=\"ignore\", category=RuntimeWarning)\n",
    "moabb.set_log_level(\"info\")"
   ]
  },
  {
   "cell_type": "code",
   "execution_count": 19,
   "metadata": {},
   "outputs": [],
   "source": [
    "subj = [1, 3]\n",
    "dataset = MAMEM3()\n",
    "dataset.subject_list = subj"
   ]
  },
  {
   "cell_type": "code",
   "execution_count": null,
   "metadata": {},
   "outputs": [],
   "source": [
    "paradigm = SSVEP(fmin=3, fmax=15, n_classes=3)"
   ]
  },
  {
   "cell_type": "code",
   "execution_count": 21,
   "metadata": {},
   "outputs": [],
   "source": [
    "interval = dataset.interval\n",
    "freqs = paradigm.used_events(dataset)\n",
    "\n",
    "pipeline = {}\n",
    "pipeline[\"CCA\"] = make_pipeline(SSVEP_CCA(interval=interval, freqs=freqs, n_harmonics=3))"
   ]
  },
  {
   "cell_type": "code",
   "execution_count": null,
   "metadata": {},
   "outputs": [],
   "source": [
    "sessions = dataset.get_data(subjects=[3])\n",
    "X, labels, meta = paradigm.get_data(dataset=dataset, subjects=[3])\n",
    "y = np.array([0 if label == '6.66' else 1 for label in labels])"
   ]
  },
  {
   "cell_type": "code",
   "execution_count": null,
   "metadata": {},
   "outputs": [],
   "source": [
    "X.shape"
   ]
  },
  {
   "cell_type": "code",
   "execution_count": 27,
   "metadata": {},
   "outputs": [],
   "source": [
    "t_min = -1\n",
    "t_max = 6.\n",
    "event_freq = [3, 7]\n",
    "fs = 128\n",
    "t_win = [.25, .5, .75, 1, 1.25, 1.5, 2, 2.5, 3]\n",
    "\n",
    "predictions = {str(key): [] for key in t_win}\n",
    "accuracies = []\n",
    "\n",
    "for tmax in t_win:\n",
    "    cca = CCAAnalysis(freqs=event_freq, win_len=tmax, s_rate=fs, n_harmonics=2)\n",
    "\n",
    "    for trial in X:\n",
    "        scores = cca.apply_cca(trial.T[:int(tmax*fs), :])\n",
    "        predictions[str(tmax)].append(np.argmax(scores))\n",
    "\n",
    "    accuracies.append(np.mean(np.array(predictions[str(tmax)]) == y) * 100)"
   ]
  },
  {
   "cell_type": "code",
   "execution_count": null,
   "metadata": {},
   "outputs": [],
   "source": [
    "accuracies"
   ]
  },
  {
   "cell_type": "markdown",
   "metadata": {},
   "source": [
    "### TFR Analysis"
   ]
  },
  {
   "cell_type": "code",
   "execution_count": null,
   "metadata": {},
   "outputs": [],
   "source": [
    "fs = 128\n",
    "event_freq = [6.66, 8.57]\n",
    "n_channels = 5\n",
    "\n",
    "\n",
    "tfr_analysis(X, y, X.shape[1], fs, event_freq)"
   ]
  }
 ],
 "metadata": {
  "kernelspec": {
   "display_name": "eeg-notebooks",
   "language": "python",
   "name": "python3"
  },
  "language_info": {
   "codemirror_mode": {
    "name": "ipython",
    "version": 3
   },
   "file_extension": ".py",
   "mimetype": "text/x-python",
   "name": "python",
   "nbconvert_exporter": "python",
   "pygments_lexer": "ipython3",
   "version": "3.9.19"
  }
 },
 "nbformat": 4,
 "nbformat_minor": 2
}
